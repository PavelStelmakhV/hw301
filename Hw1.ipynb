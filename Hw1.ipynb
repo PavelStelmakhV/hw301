{
 "cells": [
  {
   "cell_type": "code",
   "execution_count": 2,
   "id": "c6b97323",
   "metadata": {},
   "outputs": [
    {
     "name": "stdout",
     "output_type": "stream",
     "text": [
      "Task 1\n",
      "Bank_1: 10000.0 y.e., Bank_2: 25000.0 y.e., Bank_3: 15000.0 y.e.\n"
     ]
    }
   ],
   "source": [
    "import numpy as np\n",
    "print('Task 1')\n",
    "a = np.matrix(\"0.05, 0.07, 0; 0.05, 0, 0.06; 1, 1, 1\")\n",
    "b = np.matrix(\"2250; 1400; 50000\")\n",
    "a_inv = np.linalg.inv(a)\n",
    "x = a_inv.dot(b)\n",
    "print(f'Bank_1: {round(x[0, 0],10)} y.e., Bank_2: {round(x[1, 0],10)} y.e., Bank_3: {round(x[2, 0],10)} y.e.')\n"
   ]
  },
  {
   "cell_type": "code",
   "execution_count": 11,
   "id": "833352f8",
   "metadata": {},
   "outputs": [
    {
     "name": "stdout",
     "output_type": "stream",
     "text": [
      "Task 2\n",
      "iPhone 6: 436.0, iPhone 11: 556.0, iPhone 12: 336.0.\n"
     ]
    }
   ],
   "source": [
    "import numpy as np\n",
    "print('Task 2')\n",
    "a = np.matrix(\"1, -1, 0; 1, 0, -1; 1, 1, 1\")\n",
    "b = np.matrix(\"-120; 100; 1328\")\n",
    "a_det = round(np.linalg.det(a))\n",
    "a_1 = np.matrix(a)\n",
    "a_1[:, 0] = b\n",
    "a_2 = np.matrix(a)\n",
    "a_2[:, 1] = b\n",
    "a_3 = np.matrix(a)\n",
    "a_3[:, 2] = b\n",
    "x = [\n",
    "    round(np.linalg.det(a_1)) / a_det,\n",
    "    round(np.linalg.det(a_2)) / a_det,\n",
    "    round(np.linalg.det(a_3)) / a_det,\n",
    "]\n",
    "print(f'iPhone 6: {round(x[0],10)}, iPhone 11: {round(x[1],10)}, iPhone 12: {round(x[2],10)}.')"
   ]
  },
  {
   "cell_type": "code",
   "execution_count": 48,
   "id": "8a624b2e",
   "metadata": {},
   "outputs": [
    {
     "name": "stdout",
     "output_type": "stream",
     "text": [
      "Task 3\n",
      "a^2 = 12.0, b^2 = 0.5, c^2 = 4.0.\n"
     ]
    }
   ],
   "source": [
    "import numpy as np\n",
    "print('Task 3')\n",
    "a = np.matrix([[3, 0, 3], [6, 1/4, 0], [1, 1/3, 1]], dtype=float)\n",
    "b = np.matrix(\"1; 1; 1\")\n",
    "a_inv = np.linalg.inv(a)\n",
    "x = a_inv.dot(b)\n",
    "print(f'a^2 = {round(1 / x[0, 0],10)}, b^2 = {round(1 / x[1, 0],10)}, c^2 = {round(1 / x[2, 0],10)}.')"
   ]
  },
  {
   "cell_type": "code",
   "execution_count": 14,
   "id": "2e8bb1c6",
   "metadata": {},
   "outputs": [
    {
     "name": "stdout",
     "output_type": "stream",
     "text": [
      "Task 4\n",
      "a = 4.0, b = 5.0, c = 3.0.\n"
     ]
    }
   ],
   "source": [
    "import numpy as np\n",
    "print('Task 4')\n",
    "a = np.matrix([[1, 1, 1], [9, 3, 1], [1, -1, 1]])\n",
    "b = np.matrix(\"12; 54; 2\")\n",
    "x = np.linalg.solve(a, b)\n",
    "print(f'a = {round(x[0, 0],10)}, b = {round(x[1, 0],10)}, c = {round(x[2, 0],10)}.')"
   ]
  },
  {
   "cell_type": "code",
   "execution_count": 18,
   "id": "4f177fc9",
   "metadata": {},
   "outputs": [
    {
     "name": "stdout",
     "output_type": "stream",
     "text": [
      "Task 5\n"
     ]
    }
   ],
   "source": [
    "import numpy as np\n",
    "print('Task 5')\n",
    "def get_polynom(coords):\n",
    "    max_c = len(coords)\n",
    "    a = np.zeros((max_c, max_c))\n",
    "    b = np.zeros((max_c, 1))\n",
    "    for i in range(max_c):\n",
    "        j = 0\n",
    "        for j in range(max_c):\n",
    "            a[i, j] = coords[i][0] ** (max_c - 1 - j)\n",
    "        b[i, 0] = coords[i][1]\n",
    "    return np.linalg.solve(a, b)\n",
    "\n",
    "# print(get_polynom([(1,12), (3,54), (-1,2)]))"
   ]
  },
  {
   "cell_type": "code",
   "execution_count": null,
   "id": "3ea79fa6",
   "metadata": {},
   "outputs": [],
   "source": []
  }
 ],
 "metadata": {
  "kernelspec": {
   "display_name": "Python 3 (ipykernel)",
   "language": "python",
   "name": "python3"
  },
  "language_info": {
   "codemirror_mode": {
    "name": "ipython",
    "version": 3
   },
   "file_extension": ".py",
   "mimetype": "text/x-python",
   "name": "python",
   "nbconvert_exporter": "python",
   "pygments_lexer": "ipython3",
   "version": "3.10.5"
  }
 },
 "nbformat": 4,
 "nbformat_minor": 5
}
